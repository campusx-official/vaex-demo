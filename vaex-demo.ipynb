{
 "cells": [
  {
   "cell_type": "code",
   "execution_count": 1,
   "id": "4fec2cb6",
   "metadata": {},
   "outputs": [],
   "source": [
    "import pandas as pd"
   ]
  },
  {
   "cell_type": "code",
   "execution_count": 2,
   "id": "7877b77c",
   "metadata": {},
   "outputs": [],
   "source": [
    "df = pd.read_csv('large_dataset.csv')"
   ]
  },
  {
   "cell_type": "code",
   "execution_count": 3,
   "id": "5a172972",
   "metadata": {},
   "outputs": [
    {
     "data": {
      "text/plain": [
       "(30000000, 5)"
      ]
     },
     "execution_count": 3,
     "metadata": {},
     "output_type": "execute_result"
    }
   ],
   "source": [
    "df.shape"
   ]
  },
  {
   "cell_type": "code",
   "execution_count": 4,
   "id": "603ba784",
   "metadata": {},
   "outputs": [
    {
     "data": {
      "text/html": [
       "<div>\n",
       "<style scoped>\n",
       "    .dataframe tbody tr th:only-of-type {\n",
       "        vertical-align: middle;\n",
       "    }\n",
       "\n",
       "    .dataframe tbody tr th {\n",
       "        vertical-align: top;\n",
       "    }\n",
       "\n",
       "    .dataframe thead th {\n",
       "        text-align: right;\n",
       "    }\n",
       "</style>\n",
       "<table border=\"1\" class=\"dataframe\">\n",
       "  <thead>\n",
       "    <tr style=\"text-align: right;\">\n",
       "      <th></th>\n",
       "      <th>f1</th>\n",
       "      <th>f2</th>\n",
       "      <th>f3</th>\n",
       "      <th>f4</th>\n",
       "      <th>target</th>\n",
       "    </tr>\n",
       "  </thead>\n",
       "  <tbody>\n",
       "    <tr>\n",
       "      <th>0</th>\n",
       "      <td>0.203936</td>\n",
       "      <td>-0.291191</td>\n",
       "      <td>-0.617251</td>\n",
       "      <td>-1.461300</td>\n",
       "      <td>10.796660</td>\n",
       "    </tr>\n",
       "    <tr>\n",
       "      <th>1</th>\n",
       "      <td>-1.195432</td>\n",
       "      <td>0.069214</td>\n",
       "      <td>0.291861</td>\n",
       "      <td>1.972511</td>\n",
       "      <td>11.154018</td>\n",
       "    </tr>\n",
       "    <tr>\n",
       "      <th>2</th>\n",
       "      <td>-2.560271</td>\n",
       "      <td>-0.827846</td>\n",
       "      <td>0.405551</td>\n",
       "      <td>-0.132588</td>\n",
       "      <td>-20.342684</td>\n",
       "    </tr>\n",
       "    <tr>\n",
       "      <th>3</th>\n",
       "      <td>-1.131196</td>\n",
       "      <td>0.252654</td>\n",
       "      <td>0.961175</td>\n",
       "      <td>1.236873</td>\n",
       "      <td>1.407638</td>\n",
       "    </tr>\n",
       "    <tr>\n",
       "      <th>4</th>\n",
       "      <td>0.858774</td>\n",
       "      <td>-0.461605</td>\n",
       "      <td>1.095498</td>\n",
       "      <td>-0.871580</td>\n",
       "      <td>-17.043060</td>\n",
       "    </tr>\n",
       "  </tbody>\n",
       "</table>\n",
       "</div>"
      ],
      "text/plain": [
       "         f1        f2        f3        f4     target\n",
       "0  0.203936 -0.291191 -0.617251 -1.461300  10.796660\n",
       "1 -1.195432  0.069214  0.291861  1.972511  11.154018\n",
       "2 -2.560271 -0.827846  0.405551 -0.132588 -20.342684\n",
       "3 -1.131196  0.252654  0.961175  1.236873   1.407638\n",
       "4  0.858774 -0.461605  1.095498 -0.871580 -17.043060"
      ]
     },
     "execution_count": 4,
     "metadata": {},
     "output_type": "execute_result"
    }
   ],
   "source": [
    "df.head()"
   ]
  },
  {
   "cell_type": "code",
   "execution_count": 5,
   "id": "4e183824",
   "metadata": {},
   "outputs": [
    {
     "data": {
      "text/html": [
       "<div>\n",
       "<style scoped>\n",
       "    .dataframe tbody tr th:only-of-type {\n",
       "        vertical-align: middle;\n",
       "    }\n",
       "\n",
       "    .dataframe tbody tr th {\n",
       "        vertical-align: top;\n",
       "    }\n",
       "\n",
       "    .dataframe thead th {\n",
       "        text-align: right;\n",
       "    }\n",
       "</style>\n",
       "<table border=\"1\" class=\"dataframe\">\n",
       "  <thead>\n",
       "    <tr style=\"text-align: right;\">\n",
       "      <th></th>\n",
       "      <th>f1</th>\n",
       "      <th>f2</th>\n",
       "      <th>f3</th>\n",
       "      <th>f4</th>\n",
       "      <th>target</th>\n",
       "    </tr>\n",
       "  </thead>\n",
       "  <tbody>\n",
       "    <tr>\n",
       "      <th>count</th>\n",
       "      <td>3.000000e+07</td>\n",
       "      <td>3.000000e+07</td>\n",
       "      <td>3.000000e+07</td>\n",
       "      <td>3.000000e+07</td>\n",
       "      <td>3.000000e+07</td>\n",
       "    </tr>\n",
       "    <tr>\n",
       "      <th>mean</th>\n",
       "      <td>-3.258116e-04</td>\n",
       "      <td>-1.060974e-04</td>\n",
       "      <td>-1.360234e-05</td>\n",
       "      <td>-6.534420e-05</td>\n",
       "      <td>-8.363976e-03</td>\n",
       "    </tr>\n",
       "    <tr>\n",
       "      <th>std</th>\n",
       "      <td>9.999900e-01</td>\n",
       "      <td>1.000074e+00</td>\n",
       "      <td>9.998615e-01</td>\n",
       "      <td>1.000105e+00</td>\n",
       "      <td>3.131135e+01</td>\n",
       "    </tr>\n",
       "    <tr>\n",
       "      <th>min</th>\n",
       "      <td>-5.491886e+00</td>\n",
       "      <td>-5.333572e+00</td>\n",
       "      <td>-5.312364e+00</td>\n",
       "      <td>-5.237933e+00</td>\n",
       "      <td>-1.694348e+02</td>\n",
       "    </tr>\n",
       "    <tr>\n",
       "      <th>25%</th>\n",
       "      <td>-6.748877e-01</td>\n",
       "      <td>-6.744943e-01</td>\n",
       "      <td>-6.743856e-01</td>\n",
       "      <td>-6.744510e-01</td>\n",
       "      <td>-2.112416e+01</td>\n",
       "    </tr>\n",
       "    <tr>\n",
       "      <th>50%</th>\n",
       "      <td>-3.116059e-04</td>\n",
       "      <td>-2.164725e-04</td>\n",
       "      <td>-4.358653e-05</td>\n",
       "      <td>-2.934173e-04</td>\n",
       "      <td>-1.129371e-02</td>\n",
       "    </tr>\n",
       "    <tr>\n",
       "      <th>75%</th>\n",
       "      <td>6.741835e-01</td>\n",
       "      <td>6.743107e-01</td>\n",
       "      <td>6.744813e-01</td>\n",
       "      <td>6.746014e-01</td>\n",
       "      <td>2.111568e+01</td>\n",
       "    </tr>\n",
       "    <tr>\n",
       "      <th>max</th>\n",
       "      <td>5.500586e+00</td>\n",
       "      <td>5.449671e+00</td>\n",
       "      <td>5.500811e+00</td>\n",
       "      <td>5.347441e+00</td>\n",
       "      <td>1.778399e+02</td>\n",
       "    </tr>\n",
       "  </tbody>\n",
       "</table>\n",
       "</div>"
      ],
      "text/plain": [
       "                 f1            f2            f3            f4        target\n",
       "count  3.000000e+07  3.000000e+07  3.000000e+07  3.000000e+07  3.000000e+07\n",
       "mean  -3.258116e-04 -1.060974e-04 -1.360234e-05 -6.534420e-05 -8.363976e-03\n",
       "std    9.999900e-01  1.000074e+00  9.998615e-01  1.000105e+00  3.131135e+01\n",
       "min   -5.491886e+00 -5.333572e+00 -5.312364e+00 -5.237933e+00 -1.694348e+02\n",
       "25%   -6.748877e-01 -6.744943e-01 -6.743856e-01 -6.744510e-01 -2.112416e+01\n",
       "50%   -3.116059e-04 -2.164725e-04 -4.358653e-05 -2.934173e-04 -1.129371e-02\n",
       "75%    6.741835e-01  6.743107e-01  6.744813e-01  6.746014e-01  2.111568e+01\n",
       "max    5.500586e+00  5.449671e+00  5.500811e+00  5.347441e+00  1.778399e+02"
      ]
     },
     "execution_count": 5,
     "metadata": {},
     "output_type": "execute_result"
    }
   ],
   "source": [
    "df.describe()"
   ]
  },
  {
   "cell_type": "code",
   "execution_count": 6,
   "id": "e28364ff",
   "metadata": {},
   "outputs": [
    {
     "name": "stdout",
     "output_type": "stream",
     "text": [
      "Requirement already satisfied: vaex in c:\\users\\91842\\anaconda3\\lib\\site-packages (4.4.0)\n",
      "Requirement already satisfied: vaex-jupyter<0.7,>=0.6.0 in c:\\users\\91842\\anaconda3\\lib\\site-packages (from vaex) (0.6.0)\n",
      "Requirement already satisfied: vaex-hdf5<0.10,>=0.9.0 in c:\\users\\91842\\anaconda3\\lib\\site-packages (from vaex) (0.9.0)\n",
      "Requirement already satisfied: vaex-viz<0.6,>=0.5.0 in c:\\users\\91842\\anaconda3\\lib\\site-packages (from vaex) (0.5.0)\n",
      "Requirement already satisfied: vaex-server<0.7,>=0.6.0 in c:\\users\\91842\\anaconda3\\lib\\site-packages (from vaex) (0.6.0)\n",
      "Requirement already satisfied: vaex-astro<0.9,>=0.8.3 in c:\\users\\91842\\anaconda3\\lib\\site-packages (from vaex) (0.8.3)\n",
      "Requirement already satisfied: vaex-core<5,>=4.4.0 in c:\\users\\91842\\anaconda3\\lib\\site-packages (from vaex) (4.4.0)\n",
      "Requirement already satisfied: vaex-ml<0.14,>=0.13.0 in c:\\users\\91842\\anaconda3\\lib\\site-packages (from vaex) (0.13.0)\n",
      "Requirement already satisfied: astropy in c:\\users\\91842\\anaconda3\\lib\\site-packages (from vaex-astro<0.9,>=0.8.3->vaex) (4.2.1)\n",
      "Requirement already satisfied: progressbar2 in c:\\users\\91842\\anaconda3\\lib\\site-packages (from vaex-core<5,>=4.4.0->vaex) (3.53.1)\n",
      "Requirement already satisfied: future>=0.15.2 in c:\\users\\91842\\anaconda3\\lib\\site-packages (from vaex-core<5,>=4.4.0->vaex) (0.18.2)\n",
      "Requirement already satisfied: six in c:\\users\\91842\\anaconda3\\lib\\site-packages (from vaex-core<5,>=4.4.0->vaex) (1.15.0)\n",
      "Requirement already satisfied: cloudpickle in c:\\users\\91842\\anaconda3\\lib\\site-packages (from vaex-core<5,>=4.4.0->vaex) (1.6.0)\n",
      "Requirement already satisfied: tabulate>=0.8.3 in c:\\users\\91842\\anaconda3\\lib\\site-packages (from vaex-core<5,>=4.4.0->vaex) (0.8.9)\n",
      "Requirement already satisfied: frozendict in c:\\users\\91842\\anaconda3\\lib\\site-packages (from vaex-core<5,>=4.4.0->vaex) (2.0.6)\n",
      "Requirement already satisfied: dask in c:\\users\\91842\\anaconda3\\lib\\site-packages (from vaex-core<5,>=4.4.0->vaex) (2021.4.0)\n",
      "Requirement already satisfied: pyyaml in c:\\users\\91842\\anaconda3\\lib\\site-packages (from vaex-core<5,>=4.4.0->vaex) (5.4.1)\n",
      "Requirement already satisfied: pandas in c:\\users\\91842\\anaconda3\\lib\\site-packages (from vaex-core<5,>=4.4.0->vaex) (1.2.4)\n",
      "Requirement already satisfied: aplus in c:\\users\\91842\\anaconda3\\lib\\site-packages (from vaex-core<5,>=4.4.0->vaex) (0.11.0)\n",
      "Requirement already satisfied: blake3 in c:\\users\\91842\\anaconda3\\lib\\site-packages (from vaex-core<5,>=4.4.0->vaex) (0.2.0)\n",
      "Requirement already satisfied: numpy>=1.16 in c:\\users\\91842\\anaconda3\\lib\\site-packages (from vaex-core<5,>=4.4.0->vaex) (1.20.1)\n",
      "Requirement already satisfied: nest-asyncio>=1.3.3 in c:\\users\\91842\\anaconda3\\lib\\site-packages (from vaex-core<5,>=4.4.0->vaex) (1.5.1)\n",
      "Requirement already satisfied: requests in c:\\users\\91842\\anaconda3\\lib\\site-packages (from vaex-core<5,>=4.4.0->vaex) (2.25.1)\n",
      "Requirement already satisfied: pyarrow>=3.0 in c:\\users\\91842\\anaconda3\\lib\\site-packages (from vaex-core<5,>=4.4.0->vaex) (5.0.0)\n",
      "Requirement already satisfied: h5py>=2.9 in c:\\users\\91842\\anaconda3\\lib\\site-packages (from vaex-hdf5<0.10,>=0.9.0->vaex) (2.10.0)\n",
      "Requirement already satisfied: ipyvuetify<2,>=1.2.2 in c:\\users\\91842\\anaconda3\\lib\\site-packages (from vaex-jupyter<0.7,>=0.6.0->vaex) (1.8.1)\n",
      "Requirement already satisfied: ipyvolume>=0.4 in c:\\users\\91842\\anaconda3\\lib\\site-packages (from vaex-jupyter<0.7,>=0.6.0->vaex) (0.5.2)\n",
      "Requirement already satisfied: ipyleaflet in c:\\users\\91842\\anaconda3\\lib\\site-packages (from vaex-jupyter<0.7,>=0.6.0->vaex) (0.14.0)\n",
      "Requirement already satisfied: bqplot>=0.10.1 in c:\\users\\91842\\anaconda3\\lib\\site-packages (from vaex-jupyter<0.7,>=0.6.0->vaex) (0.12.30)\n",
      "Requirement already satisfied: ipympl in c:\\users\\91842\\anaconda3\\lib\\site-packages (from vaex-jupyter<0.7,>=0.6.0->vaex) (0.7.0)\n",
      "Requirement already satisfied: xarray in c:\\users\\91842\\anaconda3\\lib\\site-packages (from vaex-jupyter<0.7,>=0.6.0->vaex) (0.19.0)\n",
      "Requirement already satisfied: traittypes>=0.0.6 in c:\\users\\91842\\anaconda3\\lib\\site-packages (from bqplot>=0.10.1->vaex-jupyter<0.7,>=0.6.0->vaex) (0.2.1)\n",
      "Requirement already satisfied: traitlets>=4.3.0 in c:\\users\\91842\\anaconda3\\lib\\site-packages (from bqplot>=0.10.1->vaex-jupyter<0.7,>=0.6.0->vaex) (5.0.5)\n",
      "Requirement already satisfied: ipywidgets>=7.5.0 in c:\\users\\91842\\anaconda3\\lib\\site-packages (from bqplot>=0.10.1->vaex-jupyter<0.7,>=0.6.0->vaex) (7.6.3)\n",
      "Requirement already satisfied: ipywebrtc in c:\\users\\91842\\anaconda3\\lib\\site-packages (from ipyvolume>=0.4->vaex-jupyter<0.7,>=0.6.0->vaex) (0.6.0)\n",
      "Requirement already satisfied: pythreejs>=1.0.0 in c:\\users\\91842\\anaconda3\\lib\\site-packages (from ipyvolume>=0.4->vaex-jupyter<0.7,>=0.6.0->vaex) (2.3.0)\n",
      "Requirement already satisfied: Pillow in c:\\users\\91842\\anaconda3\\lib\\site-packages (from ipyvolume>=0.4->vaex-jupyter<0.7,>=0.6.0->vaex) (8.2.0)\n",
      "Requirement already satisfied: ipyvue<2,>=1.5 in c:\\users\\91842\\anaconda3\\lib\\site-packages (from ipyvuetify<2,>=1.2.2->vaex-jupyter<0.7,>=0.6.0->vaex) (1.5.0)\n",
      "Requirement already satisfied: widgetsnbextension~=3.5.0 in c:\\users\\91842\\anaconda3\\lib\\site-packages (from ipywidgets>=7.5.0->bqplot>=0.10.1->vaex-jupyter<0.7,>=0.6.0->vaex) (3.5.1)\n",
      "Requirement already satisfied: ipython>=4.0.0 in c:\\users\\91842\\anaconda3\\lib\\site-packages (from ipywidgets>=7.5.0->bqplot>=0.10.1->vaex-jupyter<0.7,>=0.6.0->vaex) (7.22.0)\n",
      "Requirement already satisfied: nbformat>=4.2.0 in c:\\users\\91842\\anaconda3\\lib\\site-packages (from ipywidgets>=7.5.0->bqplot>=0.10.1->vaex-jupyter<0.7,>=0.6.0->vaex) (5.1.3)\n",
      "Requirement already satisfied: ipykernel>=4.5.1 in c:\\users\\91842\\anaconda3\\lib\\site-packages (from ipywidgets>=7.5.0->bqplot>=0.10.1->vaex-jupyter<0.7,>=0.6.0->vaex) (5.3.4)\n",
      "Requirement already satisfied: jupyterlab-widgets>=1.0.0 in c:\\users\\91842\\anaconda3\\lib\\site-packages (from ipywidgets>=7.5.0->bqplot>=0.10.1->vaex-jupyter<0.7,>=0.6.0->vaex) (1.0.0)\n",
      "Requirement already satisfied: tornado>=4.2 in c:\\users\\91842\\anaconda3\\lib\\site-packages (from ipykernel>=4.5.1->ipywidgets>=7.5.0->bqplot>=0.10.1->vaex-jupyter<0.7,>=0.6.0->vaex) (6.1)\n",
      "Requirement already satisfied: jupyter-client in c:\\users\\91842\\anaconda3\\lib\\site-packages (from ipykernel>=4.5.1->ipywidgets>=7.5.0->bqplot>=0.10.1->vaex-jupyter<0.7,>=0.6.0->vaex) (6.1.12)\n",
      "Requirement already satisfied: prompt-toolkit!=3.0.0,!=3.0.1,<3.1.0,>=2.0.0 in c:\\users\\91842\\anaconda3\\lib\\site-packages (from ipython>=4.0.0->ipywidgets>=7.5.0->bqplot>=0.10.1->vaex-jupyter<0.7,>=0.6.0->vaex) (3.0.17)\n",
      "Requirement already satisfied: decorator in c:\\users\\91842\\anaconda3\\lib\\site-packages (from ipython>=4.0.0->ipywidgets>=7.5.0->bqplot>=0.10.1->vaex-jupyter<0.7,>=0.6.0->vaex) (5.0.6)\n",
      "Requirement already satisfied: backcall in c:\\users\\91842\\anaconda3\\lib\\site-packages (from ipython>=4.0.0->ipywidgets>=7.5.0->bqplot>=0.10.1->vaex-jupyter<0.7,>=0.6.0->vaex) (0.2.0)\n",
      "Requirement already satisfied: colorama in c:\\users\\91842\\anaconda3\\lib\\site-packages (from ipython>=4.0.0->ipywidgets>=7.5.0->bqplot>=0.10.1->vaex-jupyter<0.7,>=0.6.0->vaex) (0.4.4)\n",
      "Requirement already satisfied: pygments in c:\\users\\91842\\anaconda3\\lib\\site-packages (from ipython>=4.0.0->ipywidgets>=7.5.0->bqplot>=0.10.1->vaex-jupyter<0.7,>=0.6.0->vaex) (2.8.1)\n",
      "Requirement already satisfied: jedi>=0.16 in c:\\users\\91842\\anaconda3\\lib\\site-packages (from ipython>=4.0.0->ipywidgets>=7.5.0->bqplot>=0.10.1->vaex-jupyter<0.7,>=0.6.0->vaex) (0.17.2)\n",
      "Requirement already satisfied: setuptools>=18.5 in c:\\users\\91842\\anaconda3\\lib\\site-packages (from ipython>=4.0.0->ipywidgets>=7.5.0->bqplot>=0.10.1->vaex-jupyter<0.7,>=0.6.0->vaex) (52.0.0.post20210125)\n",
      "Requirement already satisfied: pickleshare in c:\\users\\91842\\anaconda3\\lib\\site-packages (from ipython>=4.0.0->ipywidgets>=7.5.0->bqplot>=0.10.1->vaex-jupyter<0.7,>=0.6.0->vaex) (0.7.5)\n",
      "Requirement already satisfied: parso<0.8.0,>=0.7.0 in c:\\users\\91842\\anaconda3\\lib\\site-packages (from jedi>=0.16->ipython>=4.0.0->ipywidgets>=7.5.0->bqplot>=0.10.1->vaex-jupyter<0.7,>=0.6.0->vaex) (0.7.0)\n",
      "Requirement already satisfied: jupyter-core in c:\\users\\91842\\anaconda3\\lib\\site-packages (from nbformat>=4.2.0->ipywidgets>=7.5.0->bqplot>=0.10.1->vaex-jupyter<0.7,>=0.6.0->vaex) (4.7.1)\n",
      "Requirement already satisfied: ipython-genutils in c:\\users\\91842\\anaconda3\\lib\\site-packages (from nbformat>=4.2.0->ipywidgets>=7.5.0->bqplot>=0.10.1->vaex-jupyter<0.7,>=0.6.0->vaex) (0.2.0)\n",
      "Requirement already satisfied: jsonschema!=2.5.0,>=2.4 in c:\\users\\91842\\anaconda3\\lib\\site-packages (from nbformat>=4.2.0->ipywidgets>=7.5.0->bqplot>=0.10.1->vaex-jupyter<0.7,>=0.6.0->vaex) (3.2.0)\n",
      "Requirement already satisfied: attrs>=17.4.0 in c:\\users\\91842\\anaconda3\\lib\\site-packages (from jsonschema!=2.5.0,>=2.4->nbformat>=4.2.0->ipywidgets>=7.5.0->bqplot>=0.10.1->vaex-jupyter<0.7,>=0.6.0->vaex) (20.3.0)\n",
      "Requirement already satisfied: pyrsistent>=0.14.0 in c:\\users\\91842\\anaconda3\\lib\\site-packages (from jsonschema!=2.5.0,>=2.4->nbformat>=4.2.0->ipywidgets>=7.5.0->bqplot>=0.10.1->vaex-jupyter<0.7,>=0.6.0->vaex) (0.17.3)\n",
      "Requirement already satisfied: wcwidth in c:\\users\\91842\\anaconda3\\lib\\site-packages (from prompt-toolkit!=3.0.0,!=3.0.1,<3.1.0,>=2.0.0->ipython>=4.0.0->ipywidgets>=7.5.0->bqplot>=0.10.1->vaex-jupyter<0.7,>=0.6.0->vaex) (0.2.5)\n",
      "Requirement already satisfied: ipydatawidgets>=1.1.1 in c:\\users\\91842\\anaconda3\\lib\\site-packages (from pythreejs>=1.0.0->ipyvolume>=0.4->vaex-jupyter<0.7,>=0.6.0->vaex) (4.2.0)\n",
      "Requirement already satisfied: jinja2 in c:\\users\\91842\\anaconda3\\lib\\site-packages (from vaex-ml<0.14,>=0.13.0->vaex) (2.11.3)\n",
      "Requirement already satisfied: numba in c:\\users\\91842\\anaconda3\\lib\\site-packages (from vaex-ml<0.14,>=0.13.0->vaex) (0.53.1)\n",
      "Requirement already satisfied: fastapi[all] in c:\\users\\91842\\anaconda3\\lib\\site-packages (from vaex-server<0.7,>=0.6.0->vaex) (0.68.0)\n",
      "Requirement already satisfied: cachetools in c:\\users\\91842\\anaconda3\\lib\\site-packages (from vaex-server<0.7,>=0.6.0->vaex) (4.2.2)\n",
      "Requirement already satisfied: matplotlib>=1.3.1 in c:\\users\\91842\\anaconda3\\lib\\site-packages (from vaex-viz<0.6,>=0.5.0->vaex) (3.3.4)\n",
      "Requirement already satisfied: kiwisolver>=1.0.1 in c:\\users\\91842\\anaconda3\\lib\\site-packages (from matplotlib>=1.3.1->vaex-viz<0.6,>=0.5.0->vaex) (1.3.1)\n",
      "Requirement already satisfied: pyparsing!=2.0.4,!=2.1.2,!=2.1.6,>=2.0.3 in c:\\users\\91842\\anaconda3\\lib\\site-packages (from matplotlib>=1.3.1->vaex-viz<0.6,>=0.5.0->vaex) (2.4.7)\n",
      "Requirement already satisfied: python-dateutil>=2.1 in c:\\users\\91842\\anaconda3\\lib\\site-packages (from matplotlib>=1.3.1->vaex-viz<0.6,>=0.5.0->vaex) (2.8.1)\n",
      "Requirement already satisfied: cycler>=0.10 in c:\\users\\91842\\anaconda3\\lib\\site-packages (from matplotlib>=1.3.1->vaex-viz<0.6,>=0.5.0->vaex) (0.10.0)\n",
      "Requirement already satisfied: notebook>=4.4.1 in c:\\users\\91842\\anaconda3\\lib\\site-packages (from widgetsnbextension~=3.5.0->ipywidgets>=7.5.0->bqplot>=0.10.1->vaex-jupyter<0.7,>=0.6.0->vaex) (6.3.0)\n",
      "Requirement already satisfied: Send2Trash>=1.5.0 in c:\\users\\91842\\anaconda3\\lib\\site-packages (from notebook>=4.4.1->widgetsnbextension~=3.5.0->ipywidgets>=7.5.0->bqplot>=0.10.1->vaex-jupyter<0.7,>=0.6.0->vaex) (1.5.0)\n",
      "Requirement already satisfied: nbconvert in c:\\users\\91842\\anaconda3\\lib\\site-packages (from notebook>=4.4.1->widgetsnbextension~=3.5.0->ipywidgets>=7.5.0->bqplot>=0.10.1->vaex-jupyter<0.7,>=0.6.0->vaex) (6.0.7)\n",
      "Requirement already satisfied: pyzmq>=17 in c:\\users\\91842\\anaconda3\\lib\\site-packages (from notebook>=4.4.1->widgetsnbextension~=3.5.0->ipywidgets>=7.5.0->bqplot>=0.10.1->vaex-jupyter<0.7,>=0.6.0->vaex) (20.0.0)\n",
      "Requirement already satisfied: prometheus-client in c:\\users\\91842\\anaconda3\\lib\\site-packages (from notebook>=4.4.1->widgetsnbextension~=3.5.0->ipywidgets>=7.5.0->bqplot>=0.10.1->vaex-jupyter<0.7,>=0.6.0->vaex) (0.10.1)\n",
      "Requirement already satisfied: terminado>=0.8.3 in c:\\users\\91842\\anaconda3\\lib\\site-packages (from notebook>=4.4.1->widgetsnbextension~=3.5.0->ipywidgets>=7.5.0->bqplot>=0.10.1->vaex-jupyter<0.7,>=0.6.0->vaex) (0.9.4)\n",
      "Requirement already satisfied: argon2-cffi in c:\\users\\91842\\anaconda3\\lib\\site-packages (from notebook>=4.4.1->widgetsnbextension~=3.5.0->ipywidgets>=7.5.0->bqplot>=0.10.1->vaex-jupyter<0.7,>=0.6.0->vaex) (20.1.0)\n",
      "Requirement already satisfied: pywin32>=1.0 in c:\\users\\91842\\anaconda3\\lib\\site-packages (from jupyter-core->nbformat>=4.2.0->ipywidgets>=7.5.0->bqplot>=0.10.1->vaex-jupyter<0.7,>=0.6.0->vaex) (227)\n",
      "Requirement already satisfied: pywinpty>=0.5 in c:\\users\\91842\\anaconda3\\lib\\site-packages (from terminado>=0.8.3->notebook>=4.4.1->widgetsnbextension~=3.5.0->ipywidgets>=7.5.0->bqplot>=0.10.1->vaex-jupyter<0.7,>=0.6.0->vaex) (0.5.7)\n",
      "Requirement already satisfied: cffi>=1.0.0 in c:\\users\\91842\\anaconda3\\lib\\site-packages (from argon2-cffi->notebook>=4.4.1->widgetsnbextension~=3.5.0->ipywidgets>=7.5.0->bqplot>=0.10.1->vaex-jupyter<0.7,>=0.6.0->vaex) (1.14.5)\n",
      "Requirement already satisfied: pycparser in c:\\users\\91842\\anaconda3\\lib\\site-packages (from cffi>=1.0.0->argon2-cffi->notebook>=4.4.1->widgetsnbextension~=3.5.0->ipywidgets>=7.5.0->bqplot>=0.10.1->vaex-jupyter<0.7,>=0.6.0->vaex) (2.20)\n",
      "Requirement already satisfied: pyerfa in c:\\users\\91842\\anaconda3\\lib\\site-packages (from astropy->vaex-astro<0.9,>=0.8.3->vaex) (1.7.3)\n",
      "Requirement already satisfied: fsspec>=0.6.0 in c:\\users\\91842\\anaconda3\\lib\\site-packages (from dask->vaex-core<5,>=4.4.0->vaex) (0.9.0)\n",
      "Requirement already satisfied: partd>=0.3.10 in c:\\users\\91842\\anaconda3\\lib\\site-packages (from dask->vaex-core<5,>=4.4.0->vaex) (1.2.0)\n",
      "Requirement already satisfied: toolz>=0.8.2 in c:\\users\\91842\\anaconda3\\lib\\site-packages (from dask->vaex-core<5,>=4.4.0->vaex) (0.11.1)\n",
      "Requirement already satisfied: locket in c:\\users\\91842\\anaconda3\\lib\\site-packages\\locket-0.2.1-py3.8.egg (from partd>=0.3.10->dask->vaex-core<5,>=4.4.0->vaex) (0.2.1)\n",
      "Requirement already satisfied: starlette==0.14.2 in c:\\users\\91842\\anaconda3\\lib\\site-packages (from fastapi[all]->vaex-server<0.7,>=0.6.0->vaex) (0.14.2)\n",
      "Requirement already satisfied: pydantic!=1.7,!=1.7.1,!=1.7.2,!=1.7.3,!=1.8,!=1.8.1,<2.0.0,>=1.6.2 in c:\\users\\91842\\anaconda3\\lib\\site-packages (from fastapi[all]->vaex-server<0.7,>=0.6.0->vaex) (1.8.2)\n",
      "Requirement already satisfied: aiofiles<0.6.0,>=0.5.0 in c:\\users\\91842\\anaconda3\\lib\\site-packages (from fastapi[all]->vaex-server<0.7,>=0.6.0->vaex) (0.5.0)\n",
      "Requirement already satisfied: email_validator<2.0.0,>=1.1.1 in c:\\users\\91842\\anaconda3\\lib\\site-packages (from fastapi[all]->vaex-server<0.7,>=0.6.0->vaex) (1.1.3)\n",
      "Requirement already satisfied: itsdangerous<2.0.0,>=1.1.0 in c:\\users\\91842\\anaconda3\\lib\\site-packages (from fastapi[all]->vaex-server<0.7,>=0.6.0->vaex) (1.1.0)\n",
      "Requirement already satisfied: orjson<4.0.0,>=3.2.1 in c:\\users\\91842\\anaconda3\\lib\\site-packages (from fastapi[all]->vaex-server<0.7,>=0.6.0->vaex) (3.6.2)\n",
      "Requirement already satisfied: async_exit_stack<2.0.0,>=1.0.1 in c:\\users\\91842\\anaconda3\\lib\\site-packages (from fastapi[all]->vaex-server<0.7,>=0.6.0->vaex) (1.0.1)\n",
      "Requirement already satisfied: async_generator<2.0.0,>=1.10 in c:\\users\\91842\\anaconda3\\lib\\site-packages (from fastapi[all]->vaex-server<0.7,>=0.6.0->vaex) (1.10)\n",
      "Requirement already satisfied: ujson<5.0.0,>=4.0.1 in c:\\users\\91842\\anaconda3\\lib\\site-packages (from fastapi[all]->vaex-server<0.7,>=0.6.0->vaex) (4.0.2)\n",
      "Requirement already satisfied: graphene<3.0.0,>=2.1.8 in c:\\users\\91842\\anaconda3\\lib\\site-packages (from fastapi[all]->vaex-server<0.7,>=0.6.0->vaex) (2.1.9)\n",
      "Requirement already satisfied: uvicorn[standard]<0.14.0,>=0.12.0 in c:\\users\\91842\\anaconda3\\lib\\site-packages (from fastapi[all]->vaex-server<0.7,>=0.6.0->vaex) (0.13.4)\n",
      "Requirement already satisfied: python-multipart<0.0.6,>=0.0.5 in c:\\users\\91842\\anaconda3\\lib\\site-packages (from fastapi[all]->vaex-server<0.7,>=0.6.0->vaex) (0.0.5)\n",
      "Requirement already satisfied: dnspython>=1.15.0 in c:\\users\\91842\\anaconda3\\lib\\site-packages (from email_validator<2.0.0,>=1.1.1->fastapi[all]->vaex-server<0.7,>=0.6.0->vaex) (2.1.0)\n",
      "Requirement already satisfied: idna>=2.0.0 in c:\\users\\91842\\anaconda3\\lib\\site-packages (from email_validator<2.0.0,>=1.1.1->fastapi[all]->vaex-server<0.7,>=0.6.0->vaex) (2.10)\n",
      "Requirement already satisfied: aniso8601<=7,>=3 in c:\\users\\91842\\anaconda3\\lib\\site-packages (from graphene<3.0.0,>=2.1.8->fastapi[all]->vaex-server<0.7,>=0.6.0->vaex) (7.0.0)\n",
      "Requirement already satisfied: graphql-relay<3,>=2 in c:\\users\\91842\\anaconda3\\lib\\site-packages (from graphene<3.0.0,>=2.1.8->fastapi[all]->vaex-server<0.7,>=0.6.0->vaex) (2.0.1)\n",
      "Requirement already satisfied: graphql-core<3,>=2.1 in c:\\users\\91842\\anaconda3\\lib\\site-packages (from graphene<3.0.0,>=2.1.8->fastapi[all]->vaex-server<0.7,>=0.6.0->vaex) (2.3.2)\n",
      "Requirement already satisfied: promise<3,>=2.3 in c:\\users\\91842\\anaconda3\\lib\\site-packages (from graphql-core<3,>=2.1->graphene<3.0.0,>=2.1.8->fastapi[all]->vaex-server<0.7,>=0.6.0->vaex) (2.3)\n",
      "Requirement already satisfied: rx<2,>=1.6 in c:\\users\\91842\\anaconda3\\lib\\site-packages (from graphql-core<3,>=2.1->graphene<3.0.0,>=2.1.8->fastapi[all]->vaex-server<0.7,>=0.6.0->vaex) (1.6.1)\n",
      "Requirement already satisfied: MarkupSafe>=0.23 in c:\\users\\91842\\anaconda3\\lib\\site-packages (from jinja2->vaex-ml<0.14,>=0.13.0->vaex) (1.1.1)\n",
      "Requirement already satisfied: typing-extensions>=3.7.4.3 in c:\\users\\91842\\anaconda3\\lib\\site-packages (from pydantic!=1.7,!=1.7.1,!=1.7.2,!=1.7.3,!=1.8,!=1.8.1,<2.0.0,>=1.6.2->fastapi[all]->vaex-server<0.7,>=0.6.0->vaex) (3.7.4.3)\n",
      "Requirement already satisfied: chardet<5,>=3.0.2 in c:\\users\\91842\\anaconda3\\lib\\site-packages (from requests->vaex-core<5,>=4.4.0->vaex) (4.0.0)\n",
      "Requirement already satisfied: urllib3<1.27,>=1.21.1 in c:\\users\\91842\\anaconda3\\lib\\site-packages (from requests->vaex-core<5,>=4.4.0->vaex) (1.26.4)\n",
      "Requirement already satisfied: certifi>=2017.4.17 in c:\\users\\91842\\anaconda3\\lib\\site-packages (from requests->vaex-core<5,>=4.4.0->vaex) (2020.12.5)\n",
      "Requirement already satisfied: click==7.* in c:\\users\\91842\\anaconda3\\lib\\site-packages (from uvicorn[standard]<0.14.0,>=0.12.0->fastapi[all]->vaex-server<0.7,>=0.6.0->vaex) (7.1.2)\n",
      "Requirement already satisfied: h11>=0.8 in c:\\users\\91842\\anaconda3\\lib\\site-packages (from uvicorn[standard]<0.14.0,>=0.12.0->fastapi[all]->vaex-server<0.7,>=0.6.0->vaex) (0.12.0)\n",
      "Requirement already satisfied: watchgod>=0.6 in c:\\users\\91842\\anaconda3\\lib\\site-packages (from uvicorn[standard]<0.14.0,>=0.12.0->fastapi[all]->vaex-server<0.7,>=0.6.0->vaex) (0.7)\n",
      "Requirement already satisfied: python-dotenv>=0.13 in c:\\users\\91842\\anaconda3\\lib\\site-packages (from uvicorn[standard]<0.14.0,>=0.12.0->fastapi[all]->vaex-server<0.7,>=0.6.0->vaex) (0.19.0)\n",
      "Requirement already satisfied: websockets==8.* in c:\\users\\91842\\anaconda3\\lib\\site-packages (from uvicorn[standard]<0.14.0,>=0.12.0->fastapi[all]->vaex-server<0.7,>=0.6.0->vaex) (8.1)\n",
      "Requirement already satisfied: defusedxml in c:\\users\\91842\\anaconda3\\lib\\site-packages (from nbconvert->notebook>=4.4.1->widgetsnbextension~=3.5.0->ipywidgets>=7.5.0->bqplot>=0.10.1->vaex-jupyter<0.7,>=0.6.0->vaex) (0.7.1)\n",
      "Requirement already satisfied: jupyterlab-pygments in c:\\users\\91842\\anaconda3\\lib\\site-packages (from nbconvert->notebook>=4.4.1->widgetsnbextension~=3.5.0->ipywidgets>=7.5.0->bqplot>=0.10.1->vaex-jupyter<0.7,>=0.6.0->vaex) (0.1.2)\n",
      "Requirement already satisfied: nbclient<0.6.0,>=0.5.0 in c:\\users\\91842\\anaconda3\\lib\\site-packages (from nbconvert->notebook>=4.4.1->widgetsnbextension~=3.5.0->ipywidgets>=7.5.0->bqplot>=0.10.1->vaex-jupyter<0.7,>=0.6.0->vaex) (0.5.3)\n",
      "Requirement already satisfied: mistune<2,>=0.8.1 in c:\\users\\91842\\anaconda3\\lib\\site-packages (from nbconvert->notebook>=4.4.1->widgetsnbextension~=3.5.0->ipywidgets>=7.5.0->bqplot>=0.10.1->vaex-jupyter<0.7,>=0.6.0->vaex) (0.8.4)\n",
      "Requirement already satisfied: bleach in c:\\users\\91842\\anaconda3\\lib\\site-packages (from nbconvert->notebook>=4.4.1->widgetsnbextension~=3.5.0->ipywidgets>=7.5.0->bqplot>=0.10.1->vaex-jupyter<0.7,>=0.6.0->vaex) (3.3.0)\n",
      "Requirement already satisfied: entrypoints>=0.2.2 in c:\\users\\91842\\anaconda3\\lib\\site-packages (from nbconvert->notebook>=4.4.1->widgetsnbextension~=3.5.0->ipywidgets>=7.5.0->bqplot>=0.10.1->vaex-jupyter<0.7,>=0.6.0->vaex) (0.3)\n",
      "Requirement already satisfied: testpath in c:\\users\\91842\\anaconda3\\lib\\site-packages (from nbconvert->notebook>=4.4.1->widgetsnbextension~=3.5.0->ipywidgets>=7.5.0->bqplot>=0.10.1->vaex-jupyter<0.7,>=0.6.0->vaex) (0.4.4)\n",
      "Requirement already satisfied: pandocfilters>=1.4.1 in c:\\users\\91842\\anaconda3\\lib\\site-packages (from nbconvert->notebook>=4.4.1->widgetsnbextension~=3.5.0->ipywidgets>=7.5.0->bqplot>=0.10.1->vaex-jupyter<0.7,>=0.6.0->vaex) (1.4.3)\n",
      "Requirement already satisfied: packaging in c:\\users\\91842\\anaconda3\\lib\\site-packages (from bleach->nbconvert->notebook>=4.4.1->widgetsnbextension~=3.5.0->ipywidgets>=7.5.0->bqplot>=0.10.1->vaex-jupyter<0.7,>=0.6.0->vaex) (20.9)\n",
      "Requirement already satisfied: webencodings in c:\\users\\91842\\anaconda3\\lib\\site-packages (from bleach->nbconvert->notebook>=4.4.1->widgetsnbextension~=3.5.0->ipywidgets>=7.5.0->bqplot>=0.10.1->vaex-jupyter<0.7,>=0.6.0->vaex) (0.5.1)\n",
      "Requirement already satisfied: llvmlite<0.37,>=0.36.0rc1 in c:\\users\\91842\\anaconda3\\lib\\site-packages (from numba->vaex-ml<0.14,>=0.13.0->vaex) (0.36.0)\n",
      "Requirement already satisfied: pytz>=2017.3 in c:\\users\\91842\\anaconda3\\lib\\site-packages (from pandas->vaex-core<5,>=4.4.0->vaex) (2021.1)\n",
      "Requirement already satisfied: python-utils>=2.3.0 in c:\\users\\91842\\anaconda3\\lib\\site-packages (from progressbar2->vaex-core<5,>=4.4.0->vaex) (2.5.6)\n"
     ]
    }
   ],
   "source": [
    "!pip install vaex"
   ]
  },
  {
   "cell_type": "code",
   "execution_count": 7,
   "id": "44db2c20",
   "metadata": {},
   "outputs": [],
   "source": [
    "import vaex"
   ]
  },
  {
   "cell_type": "code",
   "execution_count": 8,
   "id": "37c976a3",
   "metadata": {},
   "outputs": [],
   "source": [
    "vaex_df = vaex.from_pandas(df)"
   ]
  },
  {
   "cell_type": "code",
   "execution_count": 9,
   "id": "9af9a28b",
   "metadata": {},
   "outputs": [
    {
     "data": {
      "text/plain": [
       "vaex.dataframe.DataFrameLocal"
      ]
     },
     "execution_count": 9,
     "metadata": {},
     "output_type": "execute_result"
    }
   ],
   "source": [
    "type(vaex_df)"
   ]
  },
  {
   "cell_type": "code",
   "execution_count": 10,
   "id": "d119408a",
   "metadata": {},
   "outputs": [],
   "source": [
    "vaex_df.export_hdf5('large_data.hdf5')"
   ]
  },
  {
   "cell_type": "code",
   "execution_count": 11,
   "id": "9cbacfd0",
   "metadata": {},
   "outputs": [],
   "source": [
    "vaex_df = vaex.open('large_data.hdf5')"
   ]
  },
  {
   "cell_type": "code",
   "execution_count": 12,
   "id": "015da287",
   "metadata": {},
   "outputs": [
    {
     "data": {
      "text/html": [
       "<table>\n",
       "<thead>\n",
       "<tr><th>#                            </th><th style=\"text-align: right;\">       f1</th><th style=\"text-align: right;\">        f2</th><th style=\"text-align: right;\">       f3</th><th style=\"text-align: right;\">       f4</th><th style=\"text-align: right;\">   target</th></tr>\n",
       "</thead>\n",
       "<tbody>\n",
       "<tr><td><i style='opacity: 0.6'>0</i></td><td style=\"text-align: right;\"> 0.203936</td><td style=\"text-align: right;\">-0.291191 </td><td style=\"text-align: right;\">-0.617251</td><td style=\"text-align: right;\">-1.4613  </td><td style=\"text-align: right;\"> 10.7967 </td></tr>\n",
       "<tr><td><i style='opacity: 0.6'>1</i></td><td style=\"text-align: right;\">-1.19543 </td><td style=\"text-align: right;\"> 0.0692141</td><td style=\"text-align: right;\"> 0.291861</td><td style=\"text-align: right;\"> 1.97251 </td><td style=\"text-align: right;\"> 11.154  </td></tr>\n",
       "<tr><td><i style='opacity: 0.6'>2</i></td><td style=\"text-align: right;\">-2.56027 </td><td style=\"text-align: right;\">-0.827846 </td><td style=\"text-align: right;\"> 0.405551</td><td style=\"text-align: right;\">-0.132588</td><td style=\"text-align: right;\">-20.3427 </td></tr>\n",
       "<tr><td><i style='opacity: 0.6'>3</i></td><td style=\"text-align: right;\">-1.1312  </td><td style=\"text-align: right;\"> 0.252654 </td><td style=\"text-align: right;\"> 0.961175</td><td style=\"text-align: right;\"> 1.23687 </td><td style=\"text-align: right;\">  1.40764</td></tr>\n",
       "<tr><td><i style='opacity: 0.6'>4</i></td><td style=\"text-align: right;\"> 0.858774</td><td style=\"text-align: right;\">-0.461605 </td><td style=\"text-align: right;\"> 1.0955  </td><td style=\"text-align: right;\">-0.87158 </td><td style=\"text-align: right;\">-17.0431 </td></tr>\n",
       "<tr><td><i style='opacity: 0.6'>5</i></td><td style=\"text-align: right;\"> 0.63273 </td><td style=\"text-align: right;\"> 2.07437  </td><td style=\"text-align: right;\">-0.700978</td><td style=\"text-align: right;\"> 1.36085 </td><td style=\"text-align: right;\"> 49.2754 </td></tr>\n",
       "<tr><td><i style='opacity: 0.6'>6</i></td><td style=\"text-align: right;\">-1.92771 </td><td style=\"text-align: right;\"> 0.155743 </td><td style=\"text-align: right;\">-0.394158</td><td style=\"text-align: right;\">-1.3712  </td><td style=\"text-align: right;\"> 11.0902 </td></tr>\n",
       "<tr><td><i style='opacity: 0.6'>7</i></td><td style=\"text-align: right;\">-0.165462</td><td style=\"text-align: right;\">-0.481113 </td><td style=\"text-align: right;\">-1.29813 </td><td style=\"text-align: right;\"> 1.75204 </td><td style=\"text-align: right;\">-41.1136 </td></tr>\n",
       "<tr><td><i style='opacity: 0.6'>8</i></td><td style=\"text-align: right;\">-1.31883 </td><td style=\"text-align: right;\"> 0.393728 </td><td style=\"text-align: right;\">-1.83311 </td><td style=\"text-align: right;\">-0.599728</td><td style=\"text-align: right;\">  1.87724</td></tr>\n",
       "<tr><td><i style='opacity: 0.6'>9</i></td><td style=\"text-align: right;\">-0.671377</td><td style=\"text-align: right;\">-0.172073 </td><td style=\"text-align: right;\">-0.75585 </td><td style=\"text-align: right;\"> 1.05745 </td><td style=\"text-align: right;\">-26.2623 </td></tr>\n",
       "</tbody>\n",
       "</table>"
      ],
      "text/plain": [
       "  #         f1          f2         f3         f4     target\n",
       "  0   0.203936  -0.291191   -0.617251  -1.4613     10.7967\n",
       "  1  -1.19543    0.0692141   0.291861   1.97251    11.154\n",
       "  2  -2.56027   -0.827846    0.405551  -0.132588  -20.3427\n",
       "  3  -1.1312     0.252654    0.961175   1.23687     1.40764\n",
       "  4   0.858774  -0.461605    1.0955    -0.87158   -17.0431\n",
       "  5   0.63273    2.07437    -0.700978   1.36085    49.2754\n",
       "  6  -1.92771    0.155743   -0.394158  -1.3712     11.0902\n",
       "  7  -0.165462  -0.481113   -1.29813    1.75204   -41.1136\n",
       "  8  -1.31883    0.393728   -1.83311   -0.599728    1.87724\n",
       "  9  -0.671377  -0.172073   -0.75585    1.05745   -26.2623"
      ]
     },
     "execution_count": 12,
     "metadata": {},
     "output_type": "execute_result"
    }
   ],
   "source": [
    "vaex_df.head()"
   ]
  },
  {
   "cell_type": "code",
   "execution_count": 14,
   "id": "0a9313a2",
   "metadata": {},
   "outputs": [
    {
     "name": "stderr",
     "output_type": "stream",
     "text": [
      "C:\\Users\\91842\\anaconda3\\lib\\site-packages\\vaex\\ml\\__init__.py:31: UserWarning: Make sure the DataFrame is shuffled\n",
      "  warnings.warn('Make sure the DataFrame is shuffled')\n"
     ]
    }
   ],
   "source": [
    "vaex_df = vaex_df.shuffle()\n",
    "df_train, df_test = vaex_df.ml.train_test_split(test_size=0.2)"
   ]
  },
  {
   "cell_type": "code",
   "execution_count": 15,
   "id": "921bd13b",
   "metadata": {},
   "outputs": [
    {
     "data": {
      "text/plain": [
       "(24000000, 5)"
      ]
     },
     "execution_count": 15,
     "metadata": {},
     "output_type": "execute_result"
    }
   ],
   "source": [
    "df_train.shape"
   ]
  },
  {
   "cell_type": "code",
   "execution_count": 16,
   "id": "31948cd2",
   "metadata": {},
   "outputs": [
    {
     "data": {
      "text/plain": [
       "(6000000, 5)"
      ]
     },
     "execution_count": 16,
     "metadata": {},
     "output_type": "execute_result"
    }
   ],
   "source": [
    "df_test.shape"
   ]
  },
  {
   "cell_type": "code",
   "execution_count": 17,
   "id": "d00e3981",
   "metadata": {},
   "outputs": [
    {
     "data": {
      "application/vnd.jupyter.widget-view+json": {
       "model_id": "f62959a5cb8445a88eef28ead7a6cc8f",
       "version_major": 2,
       "version_minor": 0
      },
      "text/plain": [
       "HBox(children=(FloatProgress(value=0.0, max=1.0), Label(value='In progress...')))"
      ]
     },
     "metadata": {},
     "output_type": "display_data"
    }
   ],
   "source": [
    "from vaex.ml.sklearn import IncrementalPredictor\n",
    "from sklearn.linear_model import SGDRegressor\n",
    "\n",
    "features = ['f1','f2','f3','f4']\n",
    "target = 'target'\n",
    "\n",
    "model = SGDRegressor()\n",
    "\n",
    "vaex_model = IncrementalPredictor(features=features,target=target,model=model,batch_size=500000)\n",
    "\n",
    "vaex_model.fit(df=df_train,progress='widget')"
   ]
  },
  {
   "cell_type": "code",
   "execution_count": 19,
   "id": "0d5f8014",
   "metadata": {},
   "outputs": [],
   "source": [
    "df_test = vaex_model.transform(df_test)"
   ]
  },
  {
   "cell_type": "code",
   "execution_count": 20,
   "id": "3fafcfcd",
   "metadata": {},
   "outputs": [
    {
     "data": {
      "text/html": [
       "<table>\n",
       "<thead>\n",
       "<tr><th>#                            </th><th style=\"text-align: right;\">        f1</th><th style=\"text-align: right;\">       f2</th><th style=\"text-align: right;\">       f3</th><th style=\"text-align: right;\">        f4</th><th style=\"text-align: right;\">   target</th><th style=\"text-align: right;\">  prediction</th></tr>\n",
       "</thead>\n",
       "<tbody>\n",
       "<tr><td><i style='opacity: 0.6'>0</i></td><td style=\"text-align: right;\"> 0.651098 </td><td style=\"text-align: right;\"> 1.75828 </td><td style=\"text-align: right;\">-1.55602 </td><td style=\"text-align: right;\"> 0.205312 </td><td style=\"text-align: right;\"> 52.0572 </td><td style=\"text-align: right;\">    41.9285 </td></tr>\n",
       "<tr><td><i style='opacity: 0.6'>1</i></td><td style=\"text-align: right;\">-0.930079 </td><td style=\"text-align: right;\"> 0.66736 </td><td style=\"text-align: right;\"> 1.38524 </td><td style=\"text-align: right;\">-0.785785 </td><td style=\"text-align: right;\"> 17.9182 </td><td style=\"text-align: right;\">    16.1285 </td></tr>\n",
       "<tr><td><i style='opacity: 0.6'>2</i></td><td style=\"text-align: right;\">-0.757777 </td><td style=\"text-align: right;\">-1.0052  </td><td style=\"text-align: right;\"> 1.03499 </td><td style=\"text-align: right;\"> 0.227977 </td><td style=\"text-align: right;\">-37.9689 </td><td style=\"text-align: right;\">   -24.1394 </td></tr>\n",
       "<tr><td><i style='opacity: 0.6'>3</i></td><td style=\"text-align: right;\"> 0.320047 </td><td style=\"text-align: right;\"> 1.03793 </td><td style=\"text-align: right;\"> 1.27838 </td><td style=\"text-align: right;\"> 2.78425  </td><td style=\"text-align: right;\"> -7.66551</td><td style=\"text-align: right;\">    25.0803 </td></tr>\n",
       "<tr><td><i style='opacity: 0.6'>4</i></td><td style=\"text-align: right;\">-1.57124  </td><td style=\"text-align: right;\">-0.383367</td><td style=\"text-align: right;\"> 0.162823</td><td style=\"text-align: right;\">-0.70573  </td><td style=\"text-align: right;\">-13.792  </td><td style=\"text-align: right;\">    -9.57404</td></tr>\n",
       "<tr><td><i style='opacity: 0.6'>5</i></td><td style=\"text-align: right;\">-1.25979  </td><td style=\"text-align: right;\">-0.777414</td><td style=\"text-align: right;\"> 0.224138</td><td style=\"text-align: right;\">-0.925356 </td><td style=\"text-align: right;\"> 21.0758 </td><td style=\"text-align: right;\">   -18.9242 </td></tr>\n",
       "<tr><td><i style='opacity: 0.6'>6</i></td><td style=\"text-align: right;\">-0.0639199</td><td style=\"text-align: right;\">-0.143284</td><td style=\"text-align: right;\">-0.103907</td><td style=\"text-align: right;\">-0.761464 </td><td style=\"text-align: right;\"> -9.42623</td><td style=\"text-align: right;\">    -3.48351</td></tr>\n",
       "<tr><td><i style='opacity: 0.6'>7</i></td><td style=\"text-align: right;\"> 0.798208 </td><td style=\"text-align: right;\"> 0.53451 </td><td style=\"text-align: right;\">-1.62919 </td><td style=\"text-align: right;\">-1.36567  </td><td style=\"text-align: right;\"> -8.41418</td><td style=\"text-align: right;\">    12.6728 </td></tr>\n",
       "<tr><td><i style='opacity: 0.6'>8</i></td><td style=\"text-align: right;\"> 0.465624 </td><td style=\"text-align: right;\">-0.659685</td><td style=\"text-align: right;\"> 1.04316 </td><td style=\"text-align: right;\"> 0.305888 </td><td style=\"text-align: right;\">-25.7486 </td><td style=\"text-align: right;\">   -15.5313 </td></tr>\n",
       "<tr><td><i style='opacity: 0.6'>9</i></td><td style=\"text-align: right;\">-0.749915 </td><td style=\"text-align: right;\">-0.151375</td><td style=\"text-align: right;\">-0.742794</td><td style=\"text-align: right;\">-0.0452924</td><td style=\"text-align: right;\"> 20.3753 </td><td style=\"text-align: right;\">    -4.0625 </td></tr>\n",
       "</tbody>\n",
       "</table>"
      ],
      "text/plain": [
       "  #          f1         f2         f3          f4     target    prediction\n",
       "  0   0.651098    1.75828   -1.55602    0.205312    52.0572       41.9285\n",
       "  1  -0.930079    0.66736    1.38524   -0.785785    17.9182       16.1285\n",
       "  2  -0.757777   -1.0052     1.03499    0.227977   -37.9689      -24.1394\n",
       "  3   0.320047    1.03793    1.27838    2.78425     -7.66551      25.0803\n",
       "  4  -1.57124    -0.383367   0.162823  -0.70573    -13.792        -9.57404\n",
       "  5  -1.25979    -0.777414   0.224138  -0.925356    21.0758      -18.9242\n",
       "  6  -0.0639199  -0.143284  -0.103907  -0.761464    -9.42623      -3.48351\n",
       "  7   0.798208    0.53451   -1.62919   -1.36567     -8.41418      12.6728\n",
       "  8   0.465624   -0.659685   1.04316    0.305888   -25.7486      -15.5313\n",
       "  9  -0.749915   -0.151375  -0.742794  -0.0452924   20.3753       -4.0625"
      ]
     },
     "execution_count": 20,
     "metadata": {},
     "output_type": "execute_result"
    }
   ],
   "source": [
    "df_test.head()"
   ]
  },
  {
   "cell_type": "code",
   "execution_count": 21,
   "id": "4c19c46f",
   "metadata": {},
   "outputs": [
    {
     "name": "stdout",
     "output_type": "stream",
     "text": [
      "0.5920774016319219\n",
      "15.96033360781515\n"
     ]
    }
   ],
   "source": [
    "from sklearn.metrics import r2_score,mean_absolute_error\n",
    "print(r2_score(df_test['target'].values,df_test['prediction'].values))\n",
    "print(mean_absolute_error(df_test['target'].values,df_test['prediction'].values))"
   ]
  },
  {
   "cell_type": "code",
   "execution_count": null,
   "id": "6b25661e",
   "metadata": {},
   "outputs": [],
   "source": []
  }
 ],
 "metadata": {
  "kernelspec": {
   "display_name": "Python 3",
   "language": "python",
   "name": "python3"
  },
  "language_info": {
   "codemirror_mode": {
    "name": "ipython",
    "version": 3
   },
   "file_extension": ".py",
   "mimetype": "text/x-python",
   "name": "python",
   "nbconvert_exporter": "python",
   "pygments_lexer": "ipython3",
   "version": "3.8.8"
  }
 },
 "nbformat": 4,
 "nbformat_minor": 5
}
